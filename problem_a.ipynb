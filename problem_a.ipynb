{
 "cells": [
  {
   "cell_type": "code",
   "execution_count": 173,
   "metadata": {},
   "outputs": [],
   "source": [
    "# data science\n",
    "import math\n",
    "import numpy as np\n",
    "import pandas as pd\n",
    "from sklearn.neighbors import NearestNeighbors\n",
    "from sklearn.cluster import KMeans\n",
    "from gensim.models.doc2vec import Doc2Vec, TaggedDocument\n",
    "import multiprocessing\n",
    "# utils, tokenization and preprocessing\n",
    "from gensim import utils\n",
    "from random import shuffle\n",
    "import pymorphy2\n",
    "from scipy.special import expit\n",
    "from scipy.stats import logistic\n",
    "from sklearn.metrics import roc_auc_score"
   ]
  },
  {
   "cell_type": "code",
   "execution_count": 2,
   "metadata": {
    "collapsed": true
   },
   "outputs": [],
   "source": [
    "train_df = pd.read_csv(\"data/train_task1_latest.csv\", encoding='utf-8')\n",
    "test_df = pd.read_csv(\"data/sdsj_A_test.csv\", encoding='utf-8')"
   ]
  },
  {
   "cell_type": "code",
   "execution_count": 3,
   "metadata": {},
   "outputs": [
    {
     "data": {
      "text/html": [
       "<div>\n",
       "<style>\n",
       "    .dataframe thead tr:only-child th {\n",
       "        text-align: right;\n",
       "    }\n",
       "\n",
       "    .dataframe thead th {\n",
       "        text-align: left;\n",
       "    }\n",
       "\n",
       "    .dataframe tbody tr th {\n",
       "        vertical-align: top;\n",
       "    }\n",
       "</style>\n",
       "<table border=\"1\" class=\"dataframe\">\n",
       "  <thead>\n",
       "    <tr style=\"text-align: right;\">\n",
       "      <th></th>\n",
       "      <th>paragraph_id</th>\n",
       "      <th>question_id</th>\n",
       "      <th>paragraph</th>\n",
       "      <th>question</th>\n",
       "      <th>target</th>\n",
       "    </tr>\n",
       "  </thead>\n",
       "  <tbody>\n",
       "    <tr>\n",
       "      <th>0</th>\n",
       "      <td>1094</td>\n",
       "      <td>46273</td>\n",
       "      <td>В отличие от рыб, земноводные (амфибии) и прес...</td>\n",
       "      <td>С какого года Русское Царство перешло на летои...</td>\n",
       "      <td>0.0</td>\n",
       "    </tr>\n",
       "    <tr>\n",
       "      <th>1</th>\n",
       "      <td>7414</td>\n",
       "      <td>19164</td>\n",
       "      <td>В 1049 году Балдуину V удалось отнять у Герман...</td>\n",
       "      <td>Кто упомянул о его первых разногласиях со Штей...</td>\n",
       "      <td>0.0</td>\n",
       "    </tr>\n",
       "    <tr>\n",
       "      <th>2</th>\n",
       "      <td>6744</td>\n",
       "      <td>39767</td>\n",
       "      <td>Стремление достичь предельных значений ёмкости...</td>\n",
       "      <td>Как называется имеющая мировое значение эпоха ...</td>\n",
       "      <td>0.0</td>\n",
       "    </tr>\n",
       "    <tr>\n",
       "      <th>3</th>\n",
       "      <td>7300</td>\n",
       "      <td>36318</td>\n",
       "      <td>Первый практически пригодный двухтактный газов...</td>\n",
       "      <td>Что усугублялось из-за международного давления...</td>\n",
       "      <td>0.0</td>\n",
       "    </tr>\n",
       "    <tr>\n",
       "      <th>4</th>\n",
       "      <td>7077</td>\n",
       "      <td>41534</td>\n",
       "      <td>Требуя от художника углубленного изучения изоб...</td>\n",
       "      <td>Какой характер носят пророчества Леонардо да В...</td>\n",
       "      <td>0.0</td>\n",
       "    </tr>\n",
       "  </tbody>\n",
       "</table>\n",
       "</div>"
      ],
      "text/plain": [
       "   paragraph_id  question_id  \\\n",
       "0          1094        46273   \n",
       "1          7414        19164   \n",
       "2          6744        39767   \n",
       "3          7300        36318   \n",
       "4          7077        41534   \n",
       "\n",
       "                                           paragraph  \\\n",
       "0  В отличие от рыб, земноводные (амфибии) и прес...   \n",
       "1  В 1049 году Балдуину V удалось отнять у Герман...   \n",
       "2  Стремление достичь предельных значений ёмкости...   \n",
       "3  Первый практически пригодный двухтактный газов...   \n",
       "4  Требуя от художника углубленного изучения изоб...   \n",
       "\n",
       "                                            question  target  \n",
       "0  С какого года Русское Царство перешло на летои...     0.0  \n",
       "1  Кто упомянул о его первых разногласиях со Штей...     0.0  \n",
       "2  Как называется имеющая мировое значение эпоха ...     0.0  \n",
       "3  Что усугублялось из-за международного давления...     0.0  \n",
       "4  Какой характер носят пророчества Леонардо да В...     0.0  "
      ]
     },
     "execution_count": 3,
     "metadata": {},
     "output_type": "execute_result"
    }
   ],
   "source": [
    "train_df.head()"
   ]
  },
  {
   "cell_type": "markdown",
   "metadata": {},
   "source": [
    "## Data Preprocessing"
   ]
  },
  {
   "cell_type": "code",
   "execution_count": 4,
   "metadata": {
    "collapsed": true
   },
   "outputs": [],
   "source": [
    "morph = pymorphy2.MorphAnalyzer()\n",
    "cores = multiprocessing.cpu_count()\n",
    "num_partitions = 12"
   ]
  },
  {
   "cell_type": "code",
   "execution_count": 10,
   "metadata": {
    "collapsed": true
   },
   "outputs": [],
   "source": [
    "# Probably it is better not to tokenize questions\n",
    "def tokenize(string):\n",
    "    tokens = utils.simple_preprocess(string)\n",
    "    result = []\n",
    "    for token in tokens:\n",
    "        s = morph.parse(token)[0].normal_form\n",
    "        if len(s) > 1:\n",
    "            result.append(s)\n",
    "    return result\n",
    "\n",
    "def parallelize_df(df, func):\n",
    "    df_split = np.array_split(df, num_partitions)\n",
    "    pool = multiprocessing.Pool(cores)\n",
    "    df = pd.concat(pool.map(func, df_split))\n",
    "    pool.close()\n",
    "    pool.join()\n",
    "    return df\n",
    "\n",
    "def tokenize_df(df):\n",
    "    for col in df.columns:\n",
    "        if not col.endswith(\"id\"):\n",
    "            df[\"tokens\"] = df[col].apply(tokenize)\n",
    "    return df"
   ]
  },
  {
   "cell_type": "code",
   "execution_count": 11,
   "metadata": {
    "collapsed": true
   },
   "outputs": [],
   "source": [
    "train_df_p = train_df[[\"paragraph_id\", \"paragraph\"]].drop_duplicates(subset=\"paragraph_id\")\n",
    "train_df_q = train_df[[\"question_id\", \"question\"]].drop_duplicates(subset=\"question_id\")\n",
    "test_df_p = test_df[[\"paragraph_id\", \"paragraph\"]].drop_duplicates(subset=\"paragraph_id\")\n",
    "test_df_q = test_df[[\"question_id\", \"question\"]].drop_duplicates(subset=\"question_id\")"
   ]
  },
  {
   "cell_type": "code",
   "execution_count": 12,
   "metadata": {},
   "outputs": [
    {
     "name": "stdout",
     "output_type": "stream",
     "text": [
      "CPU times: user 2.46 s, sys: 620 ms, total: 3.08 s\n",
      "Wall time: 1min 33s\n",
      "CPU times: user 1.42 s, sys: 456 ms, total: 1.88 s\n",
      "Wall time: 40.1 s\n",
      "CPU times: user 552 ms, sys: 248 ms, total: 800 ms\n",
      "Wall time: 18.9 s\n",
      "CPU times: user 2.76 s, sys: 852 ms, total: 3.62 s\n",
      "Wall time: 1min 21s\n"
     ]
    }
   ],
   "source": [
    "%time train_df_p = parallelize_df(train_df_p, tokenize_df)\n",
    "%time train_df_q = parallelize_df(train_df_q, tokenize_df)\n",
    "%time test_df_p = parallelize_df(test_df_p, tokenize_df)\n",
    "%time test_df_q = parallelize_df(test_df_q, tokenize_df)"
   ]
  },
  {
   "cell_type": "code",
   "execution_count": 185,
   "metadata": {},
   "outputs": [],
   "source": [
    "train_corpus_p = [TaggedDocument(row[\"tokens\"], [\"train_p_\" + str(row[\"paragraph_id\"])]) for i, row in train_df_p.iterrows()]\n",
    "train_corpus_q = [TaggedDocument(row[\"tokens\"], [\"train_q_\" + str(row[\"question_id\"])]) for i, row in train_df_q.iterrows()]\n",
    "test_corpus_p = [TaggedDocument(row[\"tokens\"], [\"test_p_\" + str(row[\"paragraph_id\"])]) for i, row in test_df_p.iterrows()]\n",
    "test_corpus_q = [TaggedDocument(row[\"tokens\"], [\"test_q_\" + str(row[\"question_id\"])]) for i, row in test_df_q.iterrows()]"
   ]
  },
  {
   "cell_type": "code",
   "execution_count": 186,
   "metadata": {
    "collapsed": true
   },
   "outputs": [],
   "source": [
    "corpus = train_corpus_p + train_corpus_q + test_corpus_p + test_corpus_q\n",
    "shuffle(corpus)"
   ]
  },
  {
   "cell_type": "markdown",
   "metadata": {},
   "source": [
    "## Doc2Vec"
   ]
  },
  {
   "cell_type": "code",
   "execution_count": 187,
   "metadata": {},
   "outputs": [
    {
     "name": "stdout",
     "output_type": "stream",
     "text": [
      "CPU times: user 26.6 s, sys: 696 ms, total: 27.3 s\n",
      "Wall time: 27.3 s\n"
     ]
    }
   ],
   "source": [
    "doc2vec = Doc2Vec(dm=0, dbow_words=1, size=300, window=5, min_count=5, iter=50, workers=cores) \n",
    "%time doc2vec.build_vocab(corpus) "
   ]
  },
  {
   "cell_type": "code",
   "execution_count": 188,
   "metadata": {},
   "outputs": [
    {
     "name": "stdout",
     "output_type": "stream",
     "text": [
      "CPU times: user 4h 6min 28s, sys: 5min 59s, total: 4h 12min 28s\n",
      "Wall time: 1h 15min 35s\n"
     ]
    },
    {
     "data": {
      "text/plain": [
       "86709013"
      ]
     },
     "execution_count": 188,
     "metadata": {},
     "output_type": "execute_result"
    }
   ],
   "source": [
    "%time doc2vec.train(corpus, total_examples=doc2vec.corpus_count, epochs=doc2vec.iter)"
   ]
  },
  {
   "cell_type": "code",
   "execution_count": 228,
   "metadata": {
    "collapsed": true
   },
   "outputs": [],
   "source": [
    "# doc2vec.save(\"data/doc2vec\")\n",
    "# doc2vec = Doc2Vec.load(\"data/doc2vec\")"
   ]
  },
  {
   "cell_type": "markdown",
   "metadata": {},
   "source": [
    "## Testing"
   ]
  },
  {
   "cell_type": "code",
   "execution_count": 97,
   "metadata": {},
   "outputs": [],
   "source": [
    "# dict for test dataset\n",
    "id2tokens = {}\n",
    "\n",
    "for i, row in test_df_p.iterrows():\n",
    "    _id = \"p-\" + str(row[\"paragraph_id\"])\n",
    "    id2tokens[_id] = row[\"tokens\"]\n",
    "\n",
    "for i, row in test_df_q.iterrows():\n",
    "    _id = \"q-\" + str(row[\"question_id\"])\n",
    "    id2tokens[_id] = row[\"tokens\"]"
   ]
  },
  {
   "cell_type": "code",
   "execution_count": 197,
   "metadata": {
    "collapsed": true
   },
   "outputs": [],
   "source": [
    "def label_test_df(df):\n",
    "    df[\"prediction\"] =  df.apply(lambda row: doc2vec.docvecs.similarity(\"test_p_\" + str(row[\"paragraph_id\"]), \"test_q_\" + str(row[\"question_id\"])),axis=1)\n",
    "    return df\n",
    "\n",
    "def label_train_df(df):\n",
    "    df[\"prediction\"] =  df.apply(lambda row: doc2vec.docvecs.similarity(\"train_p_\" + str(row[\"paragraph_id\"]), \"train_q_\" + str(row[\"question_id\"])),axis=1)\n",
    "    return df"
   ]
  },
  {
   "cell_type": "code",
   "execution_count": 199,
   "metadata": {},
   "outputs": [
    {
     "name": "stdout",
     "output_type": "stream",
     "text": [
      "CPU times: user 3.41 s, sys: 2.62 s, total: 6.03 s\n",
      "Wall time: 46.1 s\n"
     ]
    }
   ],
   "source": [
    "%time train_df = parallelize_df(train_df, label_train_df)"
   ]
  },
  {
   "cell_type": "code",
   "execution_count": 200,
   "metadata": {},
   "outputs": [
    {
     "data": {
      "text/html": [
       "<div>\n",
       "<style>\n",
       "    .dataframe thead tr:only-child th {\n",
       "        text-align: right;\n",
       "    }\n",
       "\n",
       "    .dataframe thead th {\n",
       "        text-align: left;\n",
       "    }\n",
       "\n",
       "    .dataframe tbody tr th {\n",
       "        vertical-align: top;\n",
       "    }\n",
       "</style>\n",
       "<table border=\"1\" class=\"dataframe\">\n",
       "  <thead>\n",
       "    <tr style=\"text-align: right;\">\n",
       "      <th></th>\n",
       "      <th>paragraph_id</th>\n",
       "      <th>question_id</th>\n",
       "      <th>paragraph</th>\n",
       "      <th>question</th>\n",
       "      <th>target</th>\n",
       "      <th>prediction</th>\n",
       "    </tr>\n",
       "  </thead>\n",
       "  <tbody>\n",
       "    <tr>\n",
       "      <th>0</th>\n",
       "      <td>1094</td>\n",
       "      <td>46273</td>\n",
       "      <td>В отличие от рыб, земноводные (амфибии) и прес...</td>\n",
       "      <td>С какого года Русское Царство перешло на летои...</td>\n",
       "      <td>0.0</td>\n",
       "      <td>0.219650</td>\n",
       "    </tr>\n",
       "    <tr>\n",
       "      <th>1</th>\n",
       "      <td>7414</td>\n",
       "      <td>19164</td>\n",
       "      <td>В 1049 году Балдуину V удалось отнять у Герман...</td>\n",
       "      <td>Кто упомянул о его первых разногласиях со Штей...</td>\n",
       "      <td>0.0</td>\n",
       "      <td>0.249833</td>\n",
       "    </tr>\n",
       "    <tr>\n",
       "      <th>2</th>\n",
       "      <td>6744</td>\n",
       "      <td>39767</td>\n",
       "      <td>Стремление достичь предельных значений ёмкости...</td>\n",
       "      <td>Как называется имеющая мировое значение эпоха ...</td>\n",
       "      <td>0.0</td>\n",
       "      <td>0.127759</td>\n",
       "    </tr>\n",
       "    <tr>\n",
       "      <th>3</th>\n",
       "      <td>7300</td>\n",
       "      <td>36318</td>\n",
       "      <td>Первый практически пригодный двухтактный газов...</td>\n",
       "      <td>Что усугублялось из-за международного давления...</td>\n",
       "      <td>0.0</td>\n",
       "      <td>0.233859</td>\n",
       "    </tr>\n",
       "    <tr>\n",
       "      <th>4</th>\n",
       "      <td>7077</td>\n",
       "      <td>41534</td>\n",
       "      <td>Требуя от художника углубленного изучения изоб...</td>\n",
       "      <td>Какой характер носят пророчества Леонардо да В...</td>\n",
       "      <td>0.0</td>\n",
       "      <td>0.409753</td>\n",
       "    </tr>\n",
       "  </tbody>\n",
       "</table>\n",
       "</div>"
      ],
      "text/plain": [
       "   paragraph_id  question_id  \\\n",
       "0          1094        46273   \n",
       "1          7414        19164   \n",
       "2          6744        39767   \n",
       "3          7300        36318   \n",
       "4          7077        41534   \n",
       "\n",
       "                                           paragraph  \\\n",
       "0  В отличие от рыб, земноводные (амфибии) и прес...   \n",
       "1  В 1049 году Балдуину V удалось отнять у Герман...   \n",
       "2  Стремление достичь предельных значений ёмкости...   \n",
       "3  Первый практически пригодный двухтактный газов...   \n",
       "4  Требуя от художника углубленного изучения изоб...   \n",
       "\n",
       "                                            question  target  prediction  \n",
       "0  С какого года Русское Царство перешло на летои...     0.0    0.219650  \n",
       "1  Кто упомянул о его первых разногласиях со Штей...     0.0    0.249833  \n",
       "2  Как называется имеющая мировое значение эпоха ...     0.0    0.127759  \n",
       "3  Что усугублялось из-за международного давления...     0.0    0.233859  \n",
       "4  Какой характер носят пророчества Леонардо да В...     0.0    0.409753  "
      ]
     },
     "execution_count": 200,
     "metadata": {},
     "output_type": "execute_result"
    }
   ],
   "source": [
    "train_df.head()"
   ]
  },
  {
   "cell_type": "code",
   "execution_count": 202,
   "metadata": {},
   "outputs": [
    {
     "data": {
      "text/plain": [
       "0.96428375083316387"
      ]
     },
     "execution_count": 202,
     "metadata": {},
     "output_type": "execute_result"
    }
   ],
   "source": [
    "roc_auc_score(train_df[\"target\"].tolist(), train_df[\"prediction\"].tolist())"
   ]
  },
  {
   "cell_type": "code",
   "execution_count": 198,
   "metadata": {},
   "outputs": [
    {
     "name": "stdout",
     "output_type": "stream",
     "text": [
      "CPU times: user 2.2 s, sys: 1.02 s, total: 3.22 s\n",
      "Wall time: 23.5 s\n"
     ]
    }
   ],
   "source": [
    "%time test_df = parallelize_df(test_df, label_test_df)"
   ]
  },
  {
   "cell_type": "code",
   "execution_count": 201,
   "metadata": {},
   "outputs": [
    {
     "data": {
      "text/html": [
       "<div>\n",
       "<style>\n",
       "    .dataframe thead tr:only-child th {\n",
       "        text-align: right;\n",
       "    }\n",
       "\n",
       "    .dataframe thead th {\n",
       "        text-align: left;\n",
       "    }\n",
       "\n",
       "    .dataframe tbody tr th {\n",
       "        vertical-align: top;\n",
       "    }\n",
       "</style>\n",
       "<table border=\"1\" class=\"dataframe\">\n",
       "  <thead>\n",
       "    <tr style=\"text-align: right;\">\n",
       "      <th></th>\n",
       "      <th>paragraph_id</th>\n",
       "      <th>question_id</th>\n",
       "      <th>paragraph</th>\n",
       "      <th>question</th>\n",
       "      <th>prediction</th>\n",
       "    </tr>\n",
       "  </thead>\n",
       "  <tbody>\n",
       "    <tr>\n",
       "      <th>0</th>\n",
       "      <td>1361</td>\n",
       "      <td>6463</td>\n",
       "      <td>Передний мозг сильно развит, это самая большая...</td>\n",
       "      <td>В какой мифологии два ворона Хугин и Мунин шеп...</td>\n",
       "      <td>0.195169</td>\n",
       "    </tr>\n",
       "    <tr>\n",
       "      <th>1</th>\n",
       "      <td>1403</td>\n",
       "      <td>34696</td>\n",
       "      <td>Мирмекологи исследуют муравьёв как в лаборатор...</td>\n",
       "      <td>Когда инсайдер покупает или гипотезы чего эвол...</td>\n",
       "      <td>0.331052</td>\n",
       "    </tr>\n",
       "    <tr>\n",
       "      <th>2</th>\n",
       "      <td>1435</td>\n",
       "      <td>13751</td>\n",
       "      <td>Волновая: свет представляет собой волну в неви...</td>\n",
       "      <td>Какие предположения, по мнению Ньютона, допуст...</td>\n",
       "      <td>0.267723</td>\n",
       "    </tr>\n",
       "    <tr>\n",
       "      <th>3</th>\n",
       "      <td>341</td>\n",
       "      <td>38544</td>\n",
       "      <td>Живые организмы подчиняются началам термодинам...</td>\n",
       "      <td>В каких условиях метаболизм поддерживает поряд...</td>\n",
       "      <td>0.524390</td>\n",
       "    </tr>\n",
       "    <tr>\n",
       "      <th>4</th>\n",
       "      <td>1317</td>\n",
       "      <td>14589</td>\n",
       "      <td>Файлы нелатинского текста в Юникоде всегда зан...</td>\n",
       "      <td>Каким мелодиям Прокофьева особенно не укладыва...</td>\n",
       "      <td>0.439707</td>\n",
       "    </tr>\n",
       "  </tbody>\n",
       "</table>\n",
       "</div>"
      ],
      "text/plain": [
       "   paragraph_id  question_id  \\\n",
       "0          1361         6463   \n",
       "1          1403        34696   \n",
       "2          1435        13751   \n",
       "3           341        38544   \n",
       "4          1317        14589   \n",
       "\n",
       "                                           paragraph  \\\n",
       "0  Передний мозг сильно развит, это самая большая...   \n",
       "1  Мирмекологи исследуют муравьёв как в лаборатор...   \n",
       "2  Волновая: свет представляет собой волну в неви...   \n",
       "3  Живые организмы подчиняются началам термодинам...   \n",
       "4  Файлы нелатинского текста в Юникоде всегда зан...   \n",
       "\n",
       "                                            question  prediction  \n",
       "0  В какой мифологии два ворона Хугин и Мунин шеп...    0.195169  \n",
       "1  Когда инсайдер покупает или гипотезы чего эвол...    0.331052  \n",
       "2  Какие предположения, по мнению Ньютона, допуст...    0.267723  \n",
       "3  В каких условиях метаболизм поддерживает поряд...    0.524390  \n",
       "4  Каким мелодиям Прокофьева особенно не укладыва...    0.439707  "
      ]
     },
     "execution_count": 201,
     "metadata": {},
     "output_type": "execute_result"
    }
   ],
   "source": [
    "test_df.head()"
   ]
  },
  {
   "cell_type": "code",
   "execution_count": 225,
   "metadata": {
    "collapsed": true
   },
   "outputs": [],
   "source": [
    "test_df[['paragraph_id', 'question_id', 'prediction']].to_csv(\"data/prediction.csv\", index=False)"
   ]
  },
  {
   "cell_type": "code",
   "execution_count": null,
   "metadata": {
    "collapsed": true
   },
   "outputs": [],
   "source": []
  }
 ],
 "metadata": {
  "kernelspec": {
   "display_name": "Python 3",
   "language": "python",
   "name": "python3"
  },
  "language_info": {
   "codemirror_mode": {
    "name": "ipython",
    "version": 3
   },
   "file_extension": ".py",
   "mimetype": "text/x-python",
   "name": "python",
   "nbconvert_exporter": "python",
   "pygments_lexer": "ipython3",
   "version": "3.6.3"
  }
 },
 "nbformat": 4,
 "nbformat_minor": 2
}
